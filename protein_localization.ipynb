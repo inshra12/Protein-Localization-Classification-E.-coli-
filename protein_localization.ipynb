{
  "nbformat": 4,
  "nbformat_minor": 0,
  "metadata": {
    "colab": {
      "provenance": [],
      "toc_visible": true,
      "authorship_tag": "ABX9TyP4zSR8Yntjdj+78V4gIikR",
      "include_colab_link": true
    },
    "kernelspec": {
      "name": "python3",
      "display_name": "Python 3"
    },
    "language_info": {
      "name": "python"
    }
  },
  "cells": [
    {
      "cell_type": "markdown",
      "metadata": {
        "id": "view-in-github",
        "colab_type": "text"
      },
      "source": [
        "<a href=\"https://colab.research.google.com/github/inshra12/Protein-Localization-Classification-E.-coli-/blob/main/protein_localization.ipynb\" target=\"_parent\"><img src=\"https://colab.research.google.com/assets/colab-badge.svg\" alt=\"Open In Colab\"/></a>"
      ]
    },
    {
      "cell_type": "code",
      "execution_count": 16,
      "metadata": {
        "id": "_hVsdi7Vy1h4",
        "outputId": "d2c9abf8-5a17-4cb9-f3be-f1007c1a8afd",
        "colab": {
          "base_uri": "https://localhost:8080/"
        }
      },
      "outputs": [
        {
          "output_type": "stream",
          "name": "stdout",
          "text": [
            "Requirement already satisfied: ucimlrepo in /usr/local/lib/python3.11/dist-packages (0.0.7)\n",
            "Requirement already satisfied: pandas>=1.0.0 in /usr/local/lib/python3.11/dist-packages (from ucimlrepo) (2.2.2)\n",
            "Requirement already satisfied: certifi>=2020.12.5 in /usr/local/lib/python3.11/dist-packages (from ucimlrepo) (2025.7.14)\n",
            "Requirement already satisfied: numpy>=1.23.2 in /usr/local/lib/python3.11/dist-packages (from pandas>=1.0.0->ucimlrepo) (2.0.2)\n",
            "Requirement already satisfied: python-dateutil>=2.8.2 in /usr/local/lib/python3.11/dist-packages (from pandas>=1.0.0->ucimlrepo) (2.9.0.post0)\n",
            "Requirement already satisfied: pytz>=2020.1 in /usr/local/lib/python3.11/dist-packages (from pandas>=1.0.0->ucimlrepo) (2025.2)\n",
            "Requirement already satisfied: tzdata>=2022.7 in /usr/local/lib/python3.11/dist-packages (from pandas>=1.0.0->ucimlrepo) (2025.2)\n",
            "Requirement already satisfied: six>=1.5 in /usr/local/lib/python3.11/dist-packages (from python-dateutil>=2.8.2->pandas>=1.0.0->ucimlrepo) (1.17.0)\n"
          ]
        }
      ],
      "source": [
        "!pip install ucimlrepo"
      ]
    },
    {
      "cell_type": "code",
      "source": [
        "# Load libraries\n",
        "from ucimlrepo import fetch_ucirepo\n",
        "import pandas as pd\n",
        "import matplotlib.pyplot as plt\n",
        "import seaborn as sns\n",
        "\n",
        "# Sklearn for ML\n",
        "from sklearn.model_selection import train_test_split\n",
        "from sklearn.ensemble import RandomForestClassifier\n",
        "from sklearn.metrics import classification_report, confusion_matrix"
      ],
      "metadata": {
        "id": "PJnE4juMRu0o"
      },
      "execution_count": 17,
      "outputs": []
    },
    {
      "cell_type": "code",
      "source": [
        "# Fetch E. coli dataset from UCI (Dataset ID = 39)\n",
        "ecoli = fetch_ucirepo(id=39)\n",
        "\n",
        "# Separate features and target\n",
        "X = ecoli.data.features\n",
        "y = ecoli.data.targets\n",
        "\n",
        "# Display top 5 rows\n",
        "print(\"🔹 Feature Data:\")\n",
        "print(X)\n",
        "\n",
        "print(\"\\n🔸 Target Labels:\")\n",
        "print(y)\n"
      ],
      "metadata": {
        "id": "2fIFR3UzSFPc",
        "outputId": "473e37ab-bf70-407c-fb5a-021cdf5ab5d9",
        "colab": {
          "base_uri": "https://localhost:8080/"
        }
      },
      "execution_count": 18,
      "outputs": [
        {
          "output_type": "stream",
          "name": "stdout",
          "text": [
            "🔹 Feature Data:\n",
            "      mcg   gvh   lip  chg   aac  alm1  alm2\n",
            "0    0.49  0.29  0.48  0.5  0.56  0.24  0.35\n",
            "1    0.07  0.40  0.48  0.5  0.54  0.35  0.44\n",
            "2    0.56  0.40  0.48  0.5  0.49  0.37  0.46\n",
            "3    0.59  0.49  0.48  0.5  0.52  0.45  0.36\n",
            "4    0.23  0.32  0.48  0.5  0.55  0.25  0.35\n",
            "..    ...   ...   ...  ...   ...   ...   ...\n",
            "331  0.74  0.56  0.48  0.5  0.47  0.68  0.30\n",
            "332  0.71  0.57  0.48  0.5  0.48  0.35  0.32\n",
            "333  0.61  0.60  0.48  0.5  0.44  0.39  0.38\n",
            "334  0.59  0.61  0.48  0.5  0.42  0.42  0.37\n",
            "335  0.74  0.74  0.48  0.5  0.31  0.53  0.52\n",
            "\n",
            "[336 rows x 7 columns]\n",
            "\n",
            "🔸 Target Labels:\n",
            "    class\n",
            "0      cp\n",
            "1      cp\n",
            "2      cp\n",
            "3      cp\n",
            "4      cp\n",
            "..    ...\n",
            "331    pp\n",
            "332    pp\n",
            "333    pp\n",
            "334    pp\n",
            "335    pp\n",
            "\n",
            "[336 rows x 1 columns]\n"
          ]
        }
      ]
    },
    {
      "cell_type": "code",
      "source": [
        "# Check shape\n",
        "print(f\"Number of proteins: {X.shape[0]}\")\n",
        "print(f\"Number of features: {X.shape[1]}\")\n",
        "\n",
        "# Check class distribution\n",
        "print(\"\\nClass distribution:\")\n",
        "print(y.value_counts())\n"
      ],
      "metadata": {
        "id": "QyML58mHSlDs",
        "outputId": "b31ee42b-8b18-4978-f972-1384932077de",
        "colab": {
          "base_uri": "https://localhost:8080/"
        }
      },
      "execution_count": 19,
      "outputs": [
        {
          "output_type": "stream",
          "name": "stdout",
          "text": [
            "Number of proteins: 336\n",
            "Number of features: 7\n",
            "\n",
            "Class distribution:\n",
            "class\n",
            "cp       143\n",
            "im        77\n",
            "pp        52\n",
            "imU       35\n",
            "om        20\n",
            "omL        5\n",
            "imS        2\n",
            "imL        2\n",
            "Name: count, dtype: int64\n"
          ]
        }
      ]
    },
    {
      "cell_type": "code",
      "source": [
        "from sklearn.model_selection import train_test_split\n",
        "\n",
        "# Split into training and testing sets (80% train, 20% test)\n",
        "X_train, X_test, y_train, y_test = train_test_split(\n",
        "    X, y, test_size=0.2, random_state=42\n",
        ")\n",
        "\n",
        "print(f\"Training set size: {X_train.shape[0]} proteins\")\n",
        "print(f\"Testing set size: {X_test.shape[0]} proteins\")\n"
      ],
      "metadata": {
        "id": "OWEMznPCS2n6",
        "outputId": "228ebfa5-7c0d-4758-b92f-efd5ec0663a7",
        "colab": {
          "base_uri": "https://localhost:8080/"
        }
      },
      "execution_count": 20,
      "outputs": [
        {
          "output_type": "stream",
          "name": "stdout",
          "text": [
            "Training set size: 268 proteins\n",
            "Testing set size: 68 proteins\n"
          ]
        }
      ]
    },
    {
      "cell_type": "code",
      "source": [
        "from sklearn.ensemble import RandomForestClassifier\n",
        "\n",
        "# Initialize and train model\n",
        "model = RandomForestClassifier(n_estimators=100, random_state=42)\n",
        "model.fit(X_train,  y_train.values.ravel())     # train the model\n",
        "y_pred = model.predict(X_test)  # test model\n",
        "\n",
        "print(\"✅ Model training completed!\")\n",
        "\n"
      ],
      "metadata": {
        "id": "mtuT_RQ-Ti2Z",
        "outputId": "c19417ed-da99-4147-bf81-c00ad0b8a030",
        "colab": {
          "base_uri": "https://localhost:8080/"
        }
      },
      "execution_count": 23,
      "outputs": [
        {
          "output_type": "stream",
          "name": "stdout",
          "text": [
            "✅ Model training completed!\n"
          ]
        }
      ]
    },
    {
      "cell_type": "code",
      "source": [
        "from sklearn.metrics import accuracy_score, classification_report, confusion_matrix\n",
        "import seaborn as sns\n",
        "import matplotlib.pyplot as plt\n",
        "\n",
        "# ✅ Accuracy\n",
        "accuracy = accuracy_score(y_test, y_pred)\n",
        "print(f\"🎯 Model Accuracy: {accuracy * 100:.2f}%\")\n",
        "\n",
        "# ✅ Classification Report\n",
        "print(\"\\n📝 Classification Report:\")\n",
        "print(classification_report(y_test, y_pred))\n",
        "\n",
        "# ✅ Confusion Matrix\n",
        "cm = confusion_matrix(y_test, y_pred, labels=model.classes_)\n",
        "\n",
        "# ✅ Heatmap Plot\n",
        "plt.figure(figsize=(8, 6))\n",
        "sns.heatmap(cm, annot=True, fmt='d', cmap='Blues',\n",
        "            xticklabels=model.classes_, yticklabels=model.classes_)\n",
        "plt.title(\"Confusion Matrix - Protein Localization\")\n",
        "plt.xlabel(\"Predicted\")\n",
        "plt.ylabel(\"True\")\n",
        "plt.show()\n"
      ],
      "metadata": {
        "id": "EXOlI7pMTksh",
        "outputId": "8313e741-fcc2-4742-f41a-962a161fbe5d",
        "colab": {
          "base_uri": "https://localhost:8080/",
          "height": 983
        }
      },
      "execution_count": 24,
      "outputs": [
        {
          "output_type": "stream",
          "name": "stdout",
          "text": [
            "🎯 Model Accuracy: 85.29%\n",
            "\n",
            "📝 Classification Report:\n",
            "              precision    recall  f1-score   support\n",
            "\n",
            "          cp       0.91      0.97      0.94        32\n",
            "          im       0.75      0.69      0.72        13\n",
            "         imS       0.00      0.00      0.00         1\n",
            "         imU       0.60      0.75      0.67         4\n",
            "          om       1.00      1.00      1.00         6\n",
            "         omL       1.00      1.00      1.00         1\n",
            "          pp       0.80      0.73      0.76        11\n",
            "\n",
            "    accuracy                           0.85        68\n",
            "   macro avg       0.72      0.73      0.73        68\n",
            "weighted avg       0.84      0.85      0.85        68\n",
            "\n"
          ]
        },
        {
          "output_type": "stream",
          "name": "stderr",
          "text": [
            "/usr/local/lib/python3.11/dist-packages/sklearn/metrics/_classification.py:1565: UndefinedMetricWarning: Precision is ill-defined and being set to 0.0 in labels with no predicted samples. Use `zero_division` parameter to control this behavior.\n",
            "  _warn_prf(average, modifier, f\"{metric.capitalize()} is\", len(result))\n",
            "/usr/local/lib/python3.11/dist-packages/sklearn/metrics/_classification.py:1565: UndefinedMetricWarning: Precision is ill-defined and being set to 0.0 in labels with no predicted samples. Use `zero_division` parameter to control this behavior.\n",
            "  _warn_prf(average, modifier, f\"{metric.capitalize()} is\", len(result))\n",
            "/usr/local/lib/python3.11/dist-packages/sklearn/metrics/_classification.py:1565: UndefinedMetricWarning: Precision is ill-defined and being set to 0.0 in labels with no predicted samples. Use `zero_division` parameter to control this behavior.\n",
            "  _warn_prf(average, modifier, f\"{metric.capitalize()} is\", len(result))\n"
          ]
        },
        {
          "output_type": "display_data",
          "data": {
            "text/plain": [
              "<Figure size 800x600 with 2 Axes>"
            ],
            "image/png": "[encoded data removed]"
          },
          "metadata": {}
        }
      ]
    },
    {
      "cell_type": "code",
      "source": [
        "# Example: A protein with 7 features (same order as in training set)\n",
        "new_protein = [[0.49, 0.29, 0.48, 0.50, 0.000, 0.000, 0.50]]\n",
        "\n",
        "# Predict the location\n",
        "predicted_location = model.predict(new_protein)\n",
        "print(f\" Predicted Protein Location: {predicted_location[0]}\")\n"
      ],
      "metadata": {
        "id": "QueoO0ghTwqx",
        "outputId": "2258e0d7-ce0c-48d4-ec42-3856a372ccbd",
        "colab": {
          "base_uri": "https://localhost:8080/"
        }
      },
      "execution_count": 26,
      "outputs": [
        {
          "output_type": "stream",
          "name": "stdout",
          "text": [
            " Predicted Protein Location: cp\n"
          ]
        },
        {
          "output_type": "stream",
          "name": "stderr",
          "text": [
            "/usr/local/lib/python3.11/dist-packages/sklearn/utils/validation.py:2739: UserWarning: X does not have valid feature names, but RandomForestClassifier was fitted with feature names\n",
            "  warnings.warn(\n"
          ]
        }
      ]
    },
    {
      "cell_type": "code",
      "source": [],
      "metadata": {
        "id": "5pB5XK9qYxjY"
      },
      "execution_count": null,
      "outputs": []
    }
  ]
}